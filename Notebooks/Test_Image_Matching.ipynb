{
 "cells": [
  {
   "cell_type": "code",
   "execution_count": 4,
   "id": "ff02976a",
   "metadata": {},
   "outputs": [],
   "source": [
    "import cv2\n",
    "import numpy\n",
    "import re\n",
    "import os\n",
    "# os.sys.path"
   ]
  },
  {
   "cell_type": "code",
   "execution_count": 5,
   "id": "79c44ab2",
   "metadata": {},
   "outputs": [],
   "source": [
    "## Define directory\n",
    "back_day_dir = '../Media/07_31_22_Back_Thermal_Videos'"
   ]
  },
  {
   "cell_type": "code",
   "execution_count": 6,
   "id": "f20a08c6",
   "metadata": {},
   "outputs": [
    {
     "name": "stdout",
     "output_type": "stream",
     "text": [
      "['Baseline', 'Back_Post_Extension', 'Back_Post_Row', 'Back_Post_Lat', 'Bicep_Baseline', 'Bicep_Post_Curl', 'Bicep_Post_Hammer']\n"
     ]
    }
   ],
   "source": [
    "## Read in info file and get file names\n",
    "with open(back_day_dir + '/' + 'info.txt') as f:\n",
    "    lines = f.readlines()\n",
    "    \n",
    "# Filter out empty lines or comments\n",
    "lines = [x.strip() for x in lines if not re.search(r'^[##|\\n]', x)]\n",
    "    \n",
    "print(lines)"
   ]
  },
  {
   "cell_type": "code",
   "execution_count": 7,
   "id": "deb548d3",
   "metadata": {
    "scrolled": true
   },
   "outputs": [
    {
     "name": "stdout",
     "output_type": "stream",
     "text": [
      "CV_CAP_PROP_FRAME_WIDTH: '1080.0'\n",
      "CV_CAP_PROP_FRAME_HEIGHT : '1440.0'\n",
      "CAP_PROP_FPS : '8.648932174051357'\n",
      "CAP_PROP_POS_MSEC : '0.0'\n",
      "CAP_PROP_FRAME_COUNT  : '406.0'\n",
      "CAP_PROP_BRIGHTNESS : '0.0'\n",
      "CAP_PROP_CONTRAST : '0.0'\n",
      "CAP_PROP_SATURATION : '0.0'\n",
      "CAP_PROP_HUE : '0.0'\n",
      "CAP_PROP_GAIN  : '0.0'\n",
      "CAP_PROP_CONVERT_RGB : '0.0'\n"
     ]
    }
   ],
   "source": [
    "# Create a VideoCapture object and read from input file\n",
    "# If the input is the camera, pass 0 instead of the video file name\n",
    "cap = cv2.VideoCapture(back_day_dir + '/' + lines[0] + '.mp4')\n",
    "\n",
    "# showing values of the properties\n",
    "print(\"CV_CAP_PROP_FRAME_WIDTH: '{}'\".format(cap.get(cv2.CAP_PROP_FRAME_WIDTH)))\n",
    "print(\"CV_CAP_PROP_FRAME_HEIGHT : '{}'\".format(cap.get(cv2.CAP_PROP_FRAME_HEIGHT)))\n",
    "print(\"CAP_PROP_FPS : '{}'\".format(cap.get(cv2.CAP_PROP_FPS)))\n",
    "print(\"CAP_PROP_POS_MSEC : '{}'\".format(cap.get(cv2.CAP_PROP_POS_MSEC)))\n",
    "print(\"CAP_PROP_FRAME_COUNT  : '{}'\".format(cap.get(cv2.CAP_PROP_FRAME_COUNT)))\n",
    "print(\"CAP_PROP_BRIGHTNESS : '{}'\".format(cap.get(cv2.CAP_PROP_BRIGHTNESS)))\n",
    "print(\"CAP_PROP_CONTRAST : '{}'\".format(cap.get(cv2.CAP_PROP_CONTRAST)))\n",
    "print(\"CAP_PROP_SATURATION : '{}'\".format(cap.get(cv2.CAP_PROP_SATURATION)))\n",
    "print(\"CAP_PROP_HUE : '{}'\".format(cap.get(cv2.CAP_PROP_HUE)))\n",
    "print(\"CAP_PROP_GAIN  : '{}'\".format(cap.get(cv2.CAP_PROP_GAIN)))\n",
    "print(\"CAP_PROP_CONVERT_RGB : '{}'\".format(cap.get(cv2.CAP_PROP_CONVERT_RGB)))\n",
    "\n",
    "# Check if camera opened successfully\n",
    "if (cap.isOpened()== False):\n",
    "  print(\"Error opening video stream or file\")\n",
    "# Read until video is completed\n",
    "\n",
    "while(cap.isOpened()):\n",
    "  # Capture frame-by-frame\n",
    "  ret, frame = cap.read()\n",
    "  if ret == True:\n",
    "    # Display the resulting frame\n",
    "    cv2.imshow('Frame',frame)\n",
    "    # Press Q on keyboard to  exit\n",
    "    if cv2.waitKey(25) & 0xFF == ord('q'):\n",
    "      break\n",
    "  # Break the loop\n",
    "  else:\n",
    "    break\n",
    "    \n",
    "# When everything done, release the video capture object\n",
    "cap.release()\n",
    "# Closes all the frames\n",
    "cv2.destroyAllWindows()"
   ]
  }
 ],
 "metadata": {
  "kernelspec": {
   "display_name": "hypertrophy",
   "language": "python",
   "name": "python3"
  },
  "language_info": {
   "codemirror_mode": {
    "name": "ipython",
    "version": 3
   },
   "file_extension": ".py",
   "mimetype": "text/x-python",
   "name": "python",
   "nbconvert_exporter": "python",
   "pygments_lexer": "ipython3",
   "version": "3.6.13 |Anaconda, Inc.| (default, Jun  4 2021, 14:25:59) \n[GCC 7.5.0]"
  },
  "vscode": {
   "interpreter": {
    "hash": "fab640fafe63b1fa1ad89386334ad1f3bfbfe350729bb4fe9539462594b39904"
   }
  }
 },
 "nbformat": 4,
 "nbformat_minor": 5
}
